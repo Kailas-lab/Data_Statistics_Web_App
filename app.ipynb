{
 "cells": [
  {
   "cell_type": "markdown",
   "id": "c95d5e57",
   "metadata": {},
   "source": [
    "**Step 1: Import Required Libraries**"
   ]
  },
  {
   "cell_type": "code",
   "execution_count": 3,
   "id": "11ff483a",
   "metadata": {},
   "outputs": [],
   "source": [
    "import streamlit as st\n",
    "import pandas as pd\n",
    "import numpy as np\n",
    "import matplotlib.pyplot as plt\n"
   ]
  },
  {
   "cell_type": "markdown",
   "id": "207ed639",
   "metadata": {},
   "source": [
    "**Step 2: Create Sample Data**"
   ]
  },
  {
   "cell_type": "code",
   "execution_count": 4,
   "id": "6022d678",
   "metadata": {},
   "outputs": [
    {
     "data": {
      "text/html": [
       "<div>\n",
       "<style scoped>\n",
       "    .dataframe tbody tr th:only-of-type {\n",
       "        vertical-align: middle;\n",
       "    }\n",
       "\n",
       "    .dataframe tbody tr th {\n",
       "        vertical-align: top;\n",
       "    }\n",
       "\n",
       "    .dataframe thead th {\n",
       "        text-align: right;\n",
       "    }\n",
       "</style>\n",
       "<table border=\"1\" class=\"dataframe\">\n",
       "  <thead>\n",
       "    <tr style=\"text-align: right;\">\n",
       "      <th></th>\n",
       "      <th>Region</th>\n",
       "      <th>Item</th>\n",
       "      <th>Order Date</th>\n",
       "    </tr>\n",
       "  </thead>\n",
       "  <tbody>\n",
       "    <tr>\n",
       "      <th>0</th>\n",
       "      <td>North</td>\n",
       "      <td>Item1</td>\n",
       "      <td>2025-04-01</td>\n",
       "    </tr>\n",
       "    <tr>\n",
       "      <th>1</th>\n",
       "      <td>South</td>\n",
       "      <td>Item2</td>\n",
       "      <td>2025-04-02</td>\n",
       "    </tr>\n",
       "    <tr>\n",
       "      <th>2</th>\n",
       "      <td>East</td>\n",
       "      <td>Item3</td>\n",
       "      <td>2025-04-03</td>\n",
       "    </tr>\n",
       "    <tr>\n",
       "      <th>3</th>\n",
       "      <td>West</td>\n",
       "      <td>Item1</td>\n",
       "      <td>2025-04-04</td>\n",
       "    </tr>\n",
       "    <tr>\n",
       "      <th>4</th>\n",
       "      <td>North</td>\n",
       "      <td>Item2</td>\n",
       "      <td>2025-04-05</td>\n",
       "    </tr>\n",
       "    <tr>\n",
       "      <th>5</th>\n",
       "      <td>South</td>\n",
       "      <td>Item3</td>\n",
       "      <td>2025-04-06</td>\n",
       "    </tr>\n",
       "    <tr>\n",
       "      <th>6</th>\n",
       "      <td>East</td>\n",
       "      <td>Item1</td>\n",
       "      <td>2025-04-07</td>\n",
       "    </tr>\n",
       "    <tr>\n",
       "      <th>7</th>\n",
       "      <td>West</td>\n",
       "      <td>Item2</td>\n",
       "      <td>2025-04-08</td>\n",
       "    </tr>\n",
       "    <tr>\n",
       "      <th>8</th>\n",
       "      <td>North</td>\n",
       "      <td>Item3</td>\n",
       "      <td>2025-04-09</td>\n",
       "    </tr>\n",
       "    <tr>\n",
       "      <th>9</th>\n",
       "      <td>East</td>\n",
       "      <td>Item1</td>\n",
       "      <td>2025-04-10</td>\n",
       "    </tr>\n",
       "  </tbody>\n",
       "</table>\n",
       "</div>"
      ],
      "text/plain": [
       "  Region   Item Order Date\n",
       "0  North  Item1 2025-04-01\n",
       "1  South  Item2 2025-04-02\n",
       "2   East  Item3 2025-04-03\n",
       "3   West  Item1 2025-04-04\n",
       "4  North  Item2 2025-04-05\n",
       "5  South  Item3 2025-04-06\n",
       "6   East  Item1 2025-04-07\n",
       "7   West  Item2 2025-04-08\n",
       "8  North  Item3 2025-04-09\n",
       "9   East  Item1 2025-04-10"
      ]
     },
     "execution_count": 4,
     "metadata": {},
     "output_type": "execute_result"
    }
   ],
   "source": [
    "data = {\n",
    "    \"Region\": [\"North\", \"South\", \"East\", \"West\", \"North\", \"South\", \"East\", \"West\", \"North\", \"East\"],\n",
    "    \"Item\": [\"Item1\", \"Item2\", \"Item3\", \"Item1\", \"Item2\", \"Item3\", \"Item1\", \"Item2\", \"Item3\", \"Item1\"],\n",
    "    \"Order Date\": pd.to_datetime([\n",
    "        \"2025-04-01\", \"2025-04-02\", \"2025-04-03\", \"2025-04-04\", \"2025-04-05\",\n",
    "        \"2025-04-06\", \"2025-04-07\", \"2025-04-08\", \"2025-04-09\", \"2025-04-10\"\n",
    "    ])\n",
    "}\n",
    "\n",
    "df = pd.DataFrame(data)\n",
    "df\n"
   ]
  },
  {
   "cell_type": "markdown",
   "id": "12f58d21",
   "metadata": {},
   "source": [
    "This creates a mock dataset with 3 columns: Region, Item, and Order Date.\n",
    "\n",
    "Order Date is converted to datetime format using pd.to_datetime()."
   ]
  },
  {
   "cell_type": "markdown",
   "id": "4af942ec",
   "metadata": {},
   "source": [
    "**Step 3: Add Title and Dropdown Using Streamlit**"
   ]
  },
  {
   "cell_type": "code",
   "execution_count": 5,
   "id": "ea82ed0b",
   "metadata": {},
   "outputs": [],
   "source": [
    "st.title(\"📊 Data Statistics Web App\")\n",
    "\n",
    "column_name = st.selectbox(\"Select a column:\", [\"Select\", \"Region\", \"Item\", \"Order Date\"])\n"
   ]
  },
  {
   "cell_type": "markdown",
   "id": "0dd90196",
   "metadata": {},
   "source": [
    "st.title(): sets the app's title.\n",
    "\n",
    "st.selectbox(): creates a dropdown menu for column selection."
   ]
  },
  {
   "cell_type": "markdown",
   "id": "920ba055",
   "metadata": {},
   "source": [
    "**Step 4: Function to Calculate Mean, Median, and Mode**"
   ]
  },
  {
   "cell_type": "code",
   "execution_count": 6,
   "id": "eaa67c1a",
   "metadata": {},
   "outputs": [],
   "source": [
    "def calculate_stats(column_name):\n",
    "    column_data = df[column_name]\n",
    "\n",
    "    if column_name in [\"Region\", \"Item\"]:\n",
    "        st.warning(\"Mean and Median are not applicable to categorical data. Showing only Mode.\")\n",
    "        return None, None, column_data.mode().iloc[0]\n",
    "\n",
    "    elif np.issubdtype(column_data.dtype, np.datetime64):\n",
    "        column_data_numeric = column_data.astype(np.int64)\n",
    "        mean_val = pd.to_datetime(np.mean(column_data_numeric))\n",
    "        median_val = pd.to_datetime(np.median(column_data_numeric))\n",
    "        mode_val = column_data.mode().iloc[0]\n",
    "        return mean_val, median_val, mode_val\n",
    "\n",
    "    else:\n",
    "        mean_val = column_data.mean()\n",
    "        median_val = column_data.median()\n",
    "        mode_val = column_data.mode().iloc[0]\n",
    "        return mean_val, median_val, mode_val\n"
   ]
  },
  {
   "cell_type": "markdown",
   "id": "fbeda0ff",
   "metadata": {},
   "source": [
    "This function checks the data type of the column:\n",
    "\n",
    "If categorical, only mode() is calculated.\n",
    "\n",
    "If datetime, converted to integers for calculation.\n",
    "\n",
    "If numeric, standard calculations are done.\n",
    "\n",
    "Uses pandas.Series.mode() to fix errors from scipy.stats.mode()."
   ]
  },
  {
   "cell_type": "markdown",
   "id": "c8785fa2",
   "metadata": {},
   "source": [
    "**Step 5: Run the Function if a Valid Column is Selected**"
   ]
  },
  {
   "cell_type": "code",
   "execution_count": 7,
   "id": "b913c8d4",
   "metadata": {},
   "outputs": [],
   "source": [
    "if column_name != \"Select\":\n",
    "    mean_val, median_val, mode_val = calculate_stats(column_name)\n",
    "\n",
    "    if mean_val is not None:\n",
    "        st.success(f\"**Mean:** {mean_val}\")\n",
    "        st.info(f\"**Median:** {median_val}\")\n",
    "    st.warning(f\"**Mode:** {mode_val}\")\n"
   ]
  },
  {
   "cell_type": "markdown",
   "id": "4e7f1680",
   "metadata": {},
   "source": [
    "After user selects a column, call the function.\n",
    "\n",
    "Display Mean, Median, and Mode using Streamlit's st.success, st.info, and st.warning."
   ]
  },
  {
   "cell_type": "markdown",
   "id": "248a8d09",
   "metadata": {},
   "source": [
    "**Step 6: Plot the Column Distribution**"
   ]
  },
  {
   "cell_type": "code",
   "execution_count": 10,
   "id": "ccbd98cd",
   "metadata": {},
   "outputs": [
    {
     "ename": "KeyError",
     "evalue": "'Select'",
     "output_type": "error",
     "traceback": [
      "\u001b[1;31m---------------------------------------------------------------------------\u001b[0m",
      "\u001b[1;31mKeyError\u001b[0m                                  Traceback (most recent call last)",
      "File \u001b[1;32mc:\\Users\\ADMIN\\AppData\\Local\\Programs\\Python\\Python310\\lib\\site-packages\\pandas\\core\\indexes\\base.py:3805\u001b[0m, in \u001b[0;36mIndex.get_loc\u001b[1;34m(self, key)\u001b[0m\n\u001b[0;32m   3804\u001b[0m \u001b[38;5;28;01mtry\u001b[39;00m:\n\u001b[1;32m-> 3805\u001b[0m     \u001b[38;5;28;01mreturn\u001b[39;00m \u001b[38;5;28;43mself\u001b[39;49m\u001b[38;5;241;43m.\u001b[39;49m\u001b[43m_engine\u001b[49m\u001b[38;5;241;43m.\u001b[39;49m\u001b[43mget_loc\u001b[49m\u001b[43m(\u001b[49m\u001b[43mcasted_key\u001b[49m\u001b[43m)\u001b[49m\n\u001b[0;32m   3806\u001b[0m \u001b[38;5;28;01mexcept\u001b[39;00m \u001b[38;5;167;01mKeyError\u001b[39;00m \u001b[38;5;28;01mas\u001b[39;00m err:\n",
      "File \u001b[1;32mindex.pyx:167\u001b[0m, in \u001b[0;36mpandas._libs.index.IndexEngine.get_loc\u001b[1;34m()\u001b[0m\n",
      "File \u001b[1;32mindex.pyx:196\u001b[0m, in \u001b[0;36mpandas._libs.index.IndexEngine.get_loc\u001b[1;34m()\u001b[0m\n",
      "File \u001b[1;32mpandas\\\\_libs\\\\hashtable_class_helper.pxi:7081\u001b[0m, in \u001b[0;36mpandas._libs.hashtable.PyObjectHashTable.get_item\u001b[1;34m()\u001b[0m\n",
      "File \u001b[1;32mpandas\\\\_libs\\\\hashtable_class_helper.pxi:7089\u001b[0m, in \u001b[0;36mpandas._libs.hashtable.PyObjectHashTable.get_item\u001b[1;34m()\u001b[0m\n",
      "\u001b[1;31mKeyError\u001b[0m: 'Select'",
      "\nThe above exception was the direct cause of the following exception:\n",
      "\u001b[1;31mKeyError\u001b[0m                                  Traceback (most recent call last)",
      "Cell \u001b[1;32mIn[10], line 3\u001b[0m\n\u001b[0;32m      1\u001b[0m fig, ax \u001b[38;5;241m=\u001b[39m plt\u001b[38;5;241m.\u001b[39msubplots()\n\u001b[1;32m----> 3\u001b[0m \u001b[38;5;28;01mif\u001b[39;00m np\u001b[38;5;241m.\u001b[39missubdtype(\u001b[43mdf\u001b[49m\u001b[43m[\u001b[49m\u001b[43mcolumn_name\u001b[49m\u001b[43m]\u001b[49m\u001b[38;5;241m.\u001b[39mdtype, np\u001b[38;5;241m.\u001b[39mdatetime64):\n\u001b[0;32m      4\u001b[0m         date_counts \u001b[38;5;241m=\u001b[39m df[column_name]\u001b[38;5;241m.\u001b[39mvalue_counts()\u001b[38;5;241m.\u001b[39msort_index()\n\u001b[0;32m      5\u001b[0m         ax\u001b[38;5;241m.\u001b[39mbar(date_counts\u001b[38;5;241m.\u001b[39mindex, date_counts\u001b[38;5;241m.\u001b[39mvalues, color\u001b[38;5;241m=\u001b[39m\u001b[38;5;124m'\u001b[39m\u001b[38;5;124mskyblue\u001b[39m\u001b[38;5;124m'\u001b[39m, edgecolor\u001b[38;5;241m=\u001b[39m\u001b[38;5;124m'\u001b[39m\u001b[38;5;124mblack\u001b[39m\u001b[38;5;124m'\u001b[39m)\n",
      "File \u001b[1;32mc:\\Users\\ADMIN\\AppData\\Local\\Programs\\Python\\Python310\\lib\\site-packages\\pandas\\core\\frame.py:4102\u001b[0m, in \u001b[0;36mDataFrame.__getitem__\u001b[1;34m(self, key)\u001b[0m\n\u001b[0;32m   4100\u001b[0m \u001b[38;5;28;01mif\u001b[39;00m \u001b[38;5;28mself\u001b[39m\u001b[38;5;241m.\u001b[39mcolumns\u001b[38;5;241m.\u001b[39mnlevels \u001b[38;5;241m>\u001b[39m \u001b[38;5;241m1\u001b[39m:\n\u001b[0;32m   4101\u001b[0m     \u001b[38;5;28;01mreturn\u001b[39;00m \u001b[38;5;28mself\u001b[39m\u001b[38;5;241m.\u001b[39m_getitem_multilevel(key)\n\u001b[1;32m-> 4102\u001b[0m indexer \u001b[38;5;241m=\u001b[39m \u001b[38;5;28;43mself\u001b[39;49m\u001b[38;5;241;43m.\u001b[39;49m\u001b[43mcolumns\u001b[49m\u001b[38;5;241;43m.\u001b[39;49m\u001b[43mget_loc\u001b[49m\u001b[43m(\u001b[49m\u001b[43mkey\u001b[49m\u001b[43m)\u001b[49m\n\u001b[0;32m   4103\u001b[0m \u001b[38;5;28;01mif\u001b[39;00m is_integer(indexer):\n\u001b[0;32m   4104\u001b[0m     indexer \u001b[38;5;241m=\u001b[39m [indexer]\n",
      "File \u001b[1;32mc:\\Users\\ADMIN\\AppData\\Local\\Programs\\Python\\Python310\\lib\\site-packages\\pandas\\core\\indexes\\base.py:3812\u001b[0m, in \u001b[0;36mIndex.get_loc\u001b[1;34m(self, key)\u001b[0m\n\u001b[0;32m   3807\u001b[0m     \u001b[38;5;28;01mif\u001b[39;00m \u001b[38;5;28misinstance\u001b[39m(casted_key, \u001b[38;5;28mslice\u001b[39m) \u001b[38;5;129;01mor\u001b[39;00m (\n\u001b[0;32m   3808\u001b[0m         \u001b[38;5;28misinstance\u001b[39m(casted_key, abc\u001b[38;5;241m.\u001b[39mIterable)\n\u001b[0;32m   3809\u001b[0m         \u001b[38;5;129;01mand\u001b[39;00m \u001b[38;5;28many\u001b[39m(\u001b[38;5;28misinstance\u001b[39m(x, \u001b[38;5;28mslice\u001b[39m) \u001b[38;5;28;01mfor\u001b[39;00m x \u001b[38;5;129;01min\u001b[39;00m casted_key)\n\u001b[0;32m   3810\u001b[0m     ):\n\u001b[0;32m   3811\u001b[0m         \u001b[38;5;28;01mraise\u001b[39;00m InvalidIndexError(key)\n\u001b[1;32m-> 3812\u001b[0m     \u001b[38;5;28;01mraise\u001b[39;00m \u001b[38;5;167;01mKeyError\u001b[39;00m(key) \u001b[38;5;28;01mfrom\u001b[39;00m\u001b[38;5;250m \u001b[39m\u001b[38;5;21;01merr\u001b[39;00m\n\u001b[0;32m   3813\u001b[0m \u001b[38;5;28;01mexcept\u001b[39;00m \u001b[38;5;167;01mTypeError\u001b[39;00m:\n\u001b[0;32m   3814\u001b[0m     \u001b[38;5;66;03m# If we have a listlike key, _check_indexing_error will raise\u001b[39;00m\n\u001b[0;32m   3815\u001b[0m     \u001b[38;5;66;03m#  InvalidIndexError. Otherwise we fall through and re-raise\u001b[39;00m\n\u001b[0;32m   3816\u001b[0m     \u001b[38;5;66;03m#  the TypeError.\u001b[39;00m\n\u001b[0;32m   3817\u001b[0m     \u001b[38;5;28mself\u001b[39m\u001b[38;5;241m.\u001b[39m_check_indexing_error(key)\n",
      "\u001b[1;31mKeyError\u001b[0m: 'Select'"
     ]
    },
    {
     "data": {
      "image/png": "[encoded data removed]",
      "text/plain": [
       "<Figure size 640x480 with 1 Axes>"
      ]
     },
     "metadata": {},
     "output_type": "display_data"
    }
   ],
   "source": [
    "fig, ax = plt.subplots()\n",
    "\n",
    "if np.issubdtype(df[column_name].dtype, np.datetime64):\n",
    "        date_counts = df[column_name].value_counts().sort_index()\n",
    "        ax.bar(date_counts.index, date_counts.values, color='skyblue', edgecolor='black')\n",
    "        if mean_val is not None:\n",
    "            ax.axvline(mean_val, color='red', linestyle='dashed', linewidth=2, label='Mean')\n",
    "            ax.axvline(median_val, color='green', linestyle='dashed', linewidth=2, label='Median')\n",
    "        ax.axvline(mode_val, color='orange', linestyle='dashed', linewidth=2, label='Mode')\n",
    "        ax.set_title(f'Date Distribution of {column_name}')\n",
    "        ax.set_xlabel(\"Date\")\n",
    "        ax.set_ylabel(\"Frequency\")\n",
    "        ax.legend()\n",
    "        plt.xticks(rotation=45)\n",
    "\n",
    "else:\n",
    "    if column_name in [\"Region\", \"Item\"]:\n",
    "            cat_counts = df[column_name].value_counts()\n",
    "            ax.bar(cat_counts.index, cat_counts.values, color='lightgreen')\n",
    "            ax.set_title(f\"Category Distribution of {column_name}\")\n",
    "            ax.set_xlabel(column_name)\n",
    "            ax.set_ylabel(\"Count\")\n",
    "    else:\n",
    "            ax.hist(df[column_name], bins=10, alpha=0.7, color='blue')\n",
    "            ax.axvline(mean_val, color='r', linestyle='dashed', linewidth=2, label='Mean')\n",
    "            ax.axvline(median_val, color='g', linestyle='dashed', linewidth=2, label='Median')\n",
    "            ax.axvline(mode_val, color='y', linestyle='dashed', linewidth=2, label='Mode')\n",
    "            ax.set_title(f'Distribution of {column_name}')\n",
    "            ax.set_xlabel(column_name)\n",
    "            ax.set_ylabel('Frequency')\n",
    "            ax.legend()\n",
    "\n",
    "st.pyplot(fig)\n"
   ]
  },
  {
   "cell_type": "markdown",
   "id": "1194c716",
   "metadata": {},
   "source": [
    "If the column is datetime:\n",
    "\n",
    "Convert value counts into a bar plot of date frequency.\n",
    "\n",
    "If it's categorical:\n",
    "\n",
    "Use a bar chart of value counts.\n",
    "\n",
    "If it's numeric:\n",
    "\n",
    "Plot a histogram and overlay vertical lines for mean, median, and mode.\n",
    "\n",
    "Finally, use st.pyplot(fig) to embed the matplotlib chart into the Streamlit app."
   ]
  }
 ],
 "metadata": {
  "kernelspec": {
   "display_name": "Python 3",
   "language": "python",
   "name": "python3"
  },
  "language_info": {
   "codemirror_mode": {
    "name": "ipython",
    "version": 3
   },
   "file_extension": ".py",
   "mimetype": "text/x-python",
   "name": "python",
   "nbconvert_exporter": "python",
   "pygments_lexer": "ipython3",
   "version": "3.10.0"
  }
 },
 "nbformat": 4,
 "nbformat_minor": 5
}
